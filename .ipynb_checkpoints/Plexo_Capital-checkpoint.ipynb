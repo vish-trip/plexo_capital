{
 "cells": [
  {
   "cell_type": "markdown",
   "metadata": {},
   "source": [
    "[<img src=\"plexo-logo.png\" alt=\"Drawing\" style=\"width: 250px;\"/>](https://plexocap.com/)\n",
    "\n",
    "# [Plexo Capital Overview](https://plexocap.com/)\n",
    "\n",
    "## Know Your LP \n",
    "\n",
    "[Plexo Capital](https://plexocap.com/) is an institutional investor allocating capital globally to the startup ecosystem. On the LP side, we targeted sub USD 100M funds in fund I where their primary entry point for investment is pre seed or seed and they are leading the majority of their deals. We are still planning the strategy for fund II, and fund II will continue the focus on sub USD 100M funds and likely include some funds over USD 100M with an entry point of seed and small Series A rounds.\n",
    "\n",
    "Being data driven, we are disciples of the [power law distribution of returns](http://reactionwheel.net/2015/06/power-laws-in-venture.html) in early stage venture capital. As a result, we focus on GPs that can lead the majority of their deals which helps with both ownership levels and has the byproduct of minimizing the overlap in the underlying portfolios of our GPs. That allows us to cast as wide a net as possible to capture outliers.\n",
    "\n",
    "We source our direct investments from the portfolios of our GPs. Since an important component of our strategy is to provide downstream deal flow to our LPs, which include [Alphabet/GV](https://www.gv.com/), [Intel Capital](https://www.intel.com/content/www/us/en/intel-capital/overview.html), [Cisco Investments](https://www.ciscoinvestments.com/) and [RBC](https://www.rbccm.com/en/about-us.page), we try to align our selection with those GPs we feel will construct a portfolio of companies that will be of interest to those LPs that also invest directly.  As far as sector focus, we prefer generalist funds that invest mainly in enterprise, marketplaces + technology enabled consumer. If we lean in any direction, it would be towards enterprise.\n",
    "\n",
    "Based on our data and research, fund I targeted ~21 LP commitments. At this stage, we have committed to 20 funds (including the original five LP commitments that we made at GV which came over to the Plexo Capital portfolio) in Plexo Capital I. If we make another LP commitment in fund I (highly unlikely), we are looking at generalist funds in geographies outside of the United States and funds in the US with a thesis that might benefit in a post COVID-19 environment. \n",
    "\n",
    "Many of our commitments were made to funds where we built relationships over the first two years while we incubated inside GV.  We also like to spend about 10 hours getting to know a manager in a combination of 1:1 meetings, phone calls and catch ups at conferences. Therefore, if we are off from a timing perspective, we want to be prepared in the future for our subsequent funds. \n",
    "\n",
    "It would be great to schedule a meeting to learn more about your fund. To maintain a level playing field for access, we take a page our of the playbook of our LP [Kapor Capital](https://www.kaporcapital.com/) and ask all GPs + entrepreneurs to fill out the [form below](https://airtable.com/shru2gLH98tLjxIp8) so that we can gather more information about your fund and prepare for a productive meeting.  After the form submission, it will redirect to a page to schedule a meeting with [Vishal](https://www.linkedin.com/in/vtripathi30/) + [Sam](https://www.linkedin.com/in/sam-toney/).\n",
    "\n",
    "https://airtable.com/shru2gLH98tLjxIp8\n",
    "\n",
    "---\n",
    "\n",
    "## Portfolio Construction\n",
    "\n",
    "This webpage is built to help our prospective GPs have a run at portfolio construction through a simulated experience. Enter details about your investments and see the probabilistic performance of your fund. The data for this analysis is sourced from [Pitchbook](https://my.pitchbook.com/?pcc=366074-38) and the [Angel Investor Performance Project](http://reactionwheel.net/2013/03/aipp-data-summary-angel-investing.html) by [Kauffman Foundation](https://www.kauffman.org/).\n",
    "\n",
    "More factors will be added continuously on this page. For any suggestions or improvements please write to <vishal@plexocap.com>. \n",
    "\n",
    "---\n",
    "\n",
    "## Industry Analysis\n"
   ]
  },
  {
   "cell_type": "code",
   "execution_count": 1,
   "metadata": {},
   "outputs": [],
   "source": [
    "#imports\n",
    "import numpy as np\n",
    "import matplotlib.pyplot as plt\n",
    "import seaborn as sns\n",
    "import pandas as pd\n",
    "import scipy\n",
    "import powerlaw\n",
    "import bqplot\n",
    "from bqplot import pyplot as blt\n",
    "import ipywidgets as widgets\n",
    "import ipysheet as ps\n",
    "import warnings\n",
    "from IPython.display import display, clear_output\n",
    "plt.style.use('seaborn-darkgrid')\n",
    "warnings.filterwarnings(\"ignore\")"
   ]
  },
  {
   "cell_type": "markdown",
   "metadata": {},
   "source": [
    "Below see a discrete analysis for the different sectors and their returns distribution (legacy values).\n",
    "\n",
    "Select industry verticals for histogram of returns distribution.\n"
   ]
  },
  {
   "cell_type": "code",
   "execution_count": 2,
   "metadata": {},
   "outputs": [],
   "source": [
    "#Data Research\n",
    "\n",
    "### Alibek's data for discrete analysis\n",
    "\n",
    "disc = pd.read_csv('discreteDist.csv', index_col = 0).T\n",
    "mult = pd.read_csv('multiples.csv', index_col = 0).T\n",
    "\n",
    "sectors = list(mult.columns)\n"
   ]
  },
  {
   "cell_type": "code",
   "execution_count": 3,
   "metadata": {},
   "outputs": [
    {
     "data": {
      "application/vnd.jupyter.widget-view+json": {
       "model_id": "1c23e6ef163346049440eb0da21e221f",
       "version_major": 2,
       "version_minor": 0
      },
      "text/plain": [
       "interactive(children=(SelectMultiple(description='Verticals', index=(3, 17), options=('Ad/Marketing tech', 'AI…"
      ]
     },
     "metadata": {},
     "output_type": "display_data"
    }
   ],
   "source": [
    "def plot_func(secs):\n",
    "    df = disc[list(secs)]\n",
    "    df.plot(kind = 'bar')\n",
    "    plt.xlabel(\"Return Multiples\")\n",
    "    plt.ylabel(\"Percentage of Companies\")\n",
    "    plt.show()\n",
    "    \n",
    "\n",
    "widg1 = widgets.interactive(plot_func, secs=widgets.SelectMultiple(\n",
    "    options=sectors,\n",
    "    value=[sectors[3],sectors[-1]],\n",
    "    description='Verticals',\n",
    "    disabled=False\n",
    "    ))\n",
    "\n",
    "display(widg1)"
   ]
  },
  {
   "cell_type": "code",
   "execution_count": 4,
   "metadata": {},
   "outputs": [],
   "source": [
    "#Exact Multiples (Capped at 50x) :"
   ]
  },
  {
   "cell_type": "code",
   "execution_count": 5,
   "metadata": {},
   "outputs": [],
   "source": [
    "def mutiples(secs):\n",
    "    display(mult[list(secs)])\n",
    "    \n",
    "widg2 = widgets.interactive(mutiples, secs=widgets.SelectMultiple(\n",
    "    options=sectors,\n",
    "    value=[sectors[3],sectors[-1]],\n",
    "    description='Verticals',\n",
    "    disabled=False\n",
    "    ))\n",
    "\n",
    "#display(widg2)"
   ]
  },
  {
   "cell_type": "code",
   "execution_count": 6,
   "metadata": {},
   "outputs": [],
   "source": [
    "#grid = widgets.GridspecLayout(1,2, height='400px')\n",
    "#grid[:,0] = widg1\n",
    "#grid[:,1] = widg2\n",
    "#display(grid)"
   ]
  },
  {
   "cell_type": "code",
   "execution_count": 7,
   "metadata": {},
   "outputs": [],
   "source": [
    "#Moments for discrete distribution :"
   ]
  },
  {
   "cell_type": "code",
   "execution_count": 8,
   "metadata": {},
   "outputs": [],
   "source": [
    "mu = np.sum(np.multiply(mult,disc))\n",
    "mom2 = np.sum(np.multiply(mult**2,disc))\n",
    "var = mom2-mu**2\n",
    "stdDev = np.sqrt(var)\n",
    "\n",
    "moments = pd.DataFrame([mu,var,stdDev]).T\n",
    "moments = moments.rename_axis('Sectors')\n",
    "moments = moments.rename(columns= {0:'Mean',1:'Variance',2:'Standard Error'})\n",
    "\n",
    "#display(moments)"
   ]
  },
  {
   "cell_type": "markdown",
   "metadata": {},
   "source": [
    "Unlike the return multiples in the discrete setting, we could also have a continuous analysis of power law distribution. You can read more about the distribution here - [Pareto Distribution](https://en.wikipedia.org/wiki/Pareto_distribution)\n",
    "\n",
    "We would define the probability distribution of return multiples in the following way :\n",
    "\n",
    "$$ \\begin{equation}\n",
    "    p(x) = \\begin{cases}\n",
    "    \\frac{\\alpha-1}{\\alpha}, & \\text{for $x<1$}\\\\\n",
    "    \\frac{(\\alpha - 1)}{\\alpha} x^{-\\alpha}, & \\text{for $x>=1$}\n",
    "    \\end{cases} \\end{equation} $$\n",
    "    \n",
    "Based on empirical evidence, we have found $\\alpha$ to be between 1.9-2.5. We will calibrate this $\\alpha$ for each vertical based on data we have. For the analysis below and for stability we are choosing TVPI $\\alpha = 2.42$. \n",
    "\n",
    "This number comes from the angellist data and research paper (page 8) - [Source](https://angel.co/pdf/growth.pdf), based on the log likelihood maximization method derived originally from the works of [Clauset et al (2009)](https://arxiv.org/pdf/0706.1062.pdf).\n",
    "\n",
    "One assumption is that the probability of firms between 0 and 1x returns are considered constant but given the alpha this is a conservative approach for this analysis.\n",
    "\n",
    "The return multiple probability distribution function looks like this -"
   ]
  },
  {
   "cell_type": "code",
   "execution_count": 9,
   "metadata": {},
   "outputs": [
    {
     "data": {
      "application/vnd.jupyter.widget-view+json": {
       "model_id": "9ec58f070fd74ef881318b2935abe826",
       "version_major": 2,
       "version_minor": 0
      },
      "text/plain": [
       "VBox(children=(Figure(axes=[Axis(label='Return Multiples', scale=LinearScale()), Axis(label='Probabaility', or…"
      ]
     },
     "metadata": {},
     "output_type": "display_data"
    }
   ],
   "source": [
    "def pdf(x, alpha = 2.42):\n",
    "    if x<=1:\n",
    "        return (alpha-1)/(alpha)\n",
    "    res = (alpha-1)*np.power(x,-alpha)/alpha\n",
    "    return res\n",
    "\n",
    "alpha = 2.42\n",
    "x = np.linspace(0,10,1000)\n",
    "y = [pdf(i,alpha) for i in x]\n",
    "blt.plot(x,y)\n",
    "blt.title('Continuos probability distribution for return multiples')\n",
    "blt.xlabel('Return Multiples')\n",
    "blt.ylabel('Probabaility')\n",
    "blt.show()\n",
    "\n",
    "### Mean is calculated based on normal distribution behaviour\n",
    "directmean = (alpha-1)/(alpha*(alpha-2))+(alpha-1)/(2*alpha)\n",
    "\n",
    "### Downside risk is calculated for firms going below 1x. (So only constant part of the equation)\n",
    "directDR = (alpha-1)/(3*alpha)"
   ]
  },
  {
   "cell_type": "markdown",
   "metadata": {},
   "source": [
    "---\n",
    "\n",
    "## Vertical Investments Analysis\n",
    "\n",
    "The vertical investment analysis here is based on the discrete distribution shown above. Enter the amount invested (in millions) in each of the industry bucket and the output would be the expected TVPI and the corresponding standard deviation."
   ]
  },
  {
   "cell_type": "code",
   "execution_count": 10,
   "metadata": {},
   "outputs": [],
   "source": [
    "def showResults(b):\n",
    "    invDf = ps.to_dataframe(invSheet)\n",
    "    invDf.set_index('Sectors',inplace = True)\n",
    "    grossRet = np.sum(invDf['Amount Invested (MM)']*moments['Mean'])\n",
    "    mean = grossRet/np.sum(invDf['Amount Invested (MM)'])\n",
    "    mom2 = invDf['Amount Invested (MM)']*invDf['Amount Invested (MM)']*moments['Variance']\n",
    "    grossVar = np.sqrt(np.sum(mom2))\n",
    "    stdDev = grossVar/np.sum(invDf['Amount Invested (MM)'])\n",
    "    res = pd.DataFrame([(grossRet,mean,stdDev)],columns = ['Gross Expected Amount','Mean TVPI','TVPI Standard Deviation'], index = ['Results'])\n",
    "    with output:\n",
    "        clear_output()\n",
    "        display(res)"
   ]
  },
  {
   "cell_type": "code",
   "execution_count": 11,
   "metadata": {},
   "outputs": [
    {
     "data": {
      "application/vnd.jupyter.widget-view+json": {
       "model_id": "1ae03853dab34d51a7919b094a8a007d",
       "version_major": 2,
       "version_minor": 0
      },
      "text/plain": [
       "Sheet(cells=(Cell(choice=[], column_end=0, column_start=0, numeric_format=None, row_end=17, row_start=0, squee…"
      ]
     },
     "metadata": {},
     "output_type": "display_data"
    },
    {
     "data": {
      "application/vnd.jupyter.widget-view+json": {
       "model_id": "cefe9c915af24b9f8a5a28afc4831395",
       "version_major": 2,
       "version_minor": 0
      },
      "text/plain": [
       "Button(description='Get Results!', style=ButtonStyle())"
      ]
     },
     "metadata": {},
     "output_type": "display_data"
    },
    {
     "data": {
      "application/vnd.jupyter.widget-view+json": {
       "model_id": "bf33dc344103497087780029d839d400",
       "version_major": 2,
       "version_minor": 0
      },
      "text/plain": [
       "Output()"
      ]
     },
     "metadata": {},
     "output_type": "display_data"
    }
   ],
   "source": [
    "inv = pd.DataFrame(zip(sectors,[0]*len(sectors)), columns = ['Sectors','Amount Invested (MM)'])\n",
    "invSheet = ps.from_dataframe(inv)\n",
    "button = widgets.Button(description=\"Get Results!\")\n",
    "output = widgets.Output()\n",
    "display(invSheet,button,output)\n",
    "button.on_click(showResults)"
   ]
  },
  {
   "cell_type": "markdown",
   "metadata": {},
   "source": [
    "---\n",
    "\n",
    "## Optimum Investment Portfolio\n",
    "\n",
    "TODO"
   ]
  },
  {
   "cell_type": "code",
   "execution_count": null,
   "metadata": {},
   "outputs": [],
   "source": []
  }
 ],
 "metadata": {
  "kernelspec": {
   "display_name": "Python 3",
   "language": "python",
   "name": "python3"
  },
  "language_info": {
   "codemirror_mode": {
    "name": "ipython",
    "version": 3
   },
   "file_extension": ".py",
   "mimetype": "text/x-python",
   "name": "python",
   "nbconvert_exporter": "python",
   "pygments_lexer": "ipython3",
   "version": "3.7.6"
  }
 },
 "nbformat": 4,
 "nbformat_minor": 4
}
