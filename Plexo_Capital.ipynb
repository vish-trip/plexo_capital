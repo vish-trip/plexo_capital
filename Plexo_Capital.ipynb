{
 "cells": [
  {
   "cell_type": "markdown",
   "metadata": {},
   "source": [
    "[<img src=\"plexo-logo.png\" alt=\"Drawing\" style=\"width: 250px;\"/>](https://plexocap.com/)\n",
    "\n",
    "# [Plexo Capital Overview](https://plexocap.com/)\n",
    "\n",
    "## Know Your LP \n",
    "\n",
    "[Plexo Capital](https://plexocap.com/) is an institutional investor allocating capital globally to the startup ecosystem. On the LP side, we targeted sub USD 100M funds in fund I where their primary entry point for investment is pre seed or seed and they are leading the majority of their deals. We are still planning the strategy for fund II, and fund II will continue the focus on sub USD 100M funds and likely include some funds over USD 100M with an entry point of seed and small Series A rounds.\n",
    "\n",
    "Being data driven, we are disciples of the [power law distribution of returns](http://reactionwheel.net/2015/06/power-laws-in-venture.html) in early stage venture capital. As a result, we focus on GPs that can lead the majority of their deals which helps with both ownership levels and has the byproduct of minimizing the overlap in the underlying portfolios of our GPs. That allows us to cast as wide a net as possible to capture outliers.\n",
    "\n",
    "We source our direct investments from the portfolios of our GPs. Since an important component of our strategy is to provide downstream deal flow to our LPs, which include [Alphabet/GV](https://www.gv.com/), [Intel Capital](https://www.intel.com/content/www/us/en/intel-capital/overview.html), [Cisco Investments](https://www.ciscoinvestments.com/) and [RBC](https://www.rbccm.com/en/about-us.page), we try to align our selection with those GPs we feel will construct a portfolio of companies that will be of interest to those LPs that also invest directly.  As far as sector focus, we prefer generalist funds that invest mainly in enterprise, marketplaces + technology enabled consumer. If we lean in any direction, it would be towards enterprise.\n",
    "\n",
    "Based on our data and research, fund I targeted ~21 LP commitments. At this stage, we have committed to 20 funds (including the original five LP commitments that we made at GV which came over to the Plexo Capital portfolio) in Plexo Capital I. If we make another LP commitment in fund I (highly unlikely), we are looking at generalist funds in geographies outside of the United States and funds in the US with a thesis that might benefit in a post COVID-19 environment. \n",
    "\n",
    "Many of our commitments were made to funds where we built relationships over the first two years while we incubated inside GV.  We also like to spend about 10 hours getting to know a manager in a combination of 1:1 meetings, phone calls and catch ups at conferences. Therefore, if we are off from a timing perspective, we want to be prepared in the future for our subsequent funds. \n",
    "\n",
    "It would be great to schedule a meeting to learn more about your fund. To maintain a level playing field for access, we take a page our of the playbook of our LP [Kapor Capital](https://www.kaporcapital.com/) and ask all GPs + entrepreneurs to fill out the [form below](https://airtable.com/shru2gLH98tLjxIp8) so that we can gather more information about your fund and prepare for a productive meeting.  After the form submission, it will redirect to a page to schedule a meeting with [Vishal](https://www.linkedin.com/in/vtripathi30/) + [Sam](https://www.linkedin.com/in/sam-toney/).\n",
    "\n",
    "https://airtable.com/shru2gLH98tLjxIp8\n",
    "\n",
    "---\n",
    "\n",
    "## Portfolio Construction\n",
    "\n",
    "This webpage is built to help our prospective GPs have a run at portfolio construction through a simulated experience. Enter details about your investments and see the probabilistic performance of your fund. The data for this analysis is sourced from [Pitchbook](https://my.pitchbook.com/?pcc=366074-38) and the [Angel Investor Performance Project](http://reactionwheel.net/2013/03/aipp-data-summary-angel-investing.html) by [Kauffman Foundation](https://www.kauffman.org/).\n",
    "\n",
    "More factors will be added continuously on this page. For any suggestions or improvements please write to <vishal@plexocap.com>. \n",
    "\n",
    "---\n",
    "\n",
    "## Industry Analysis\n"
   ]
  },
  {
   "cell_type": "code",
   "execution_count": 1,
   "metadata": {},
   "outputs": [],
   "source": [
    "#imports\n",
    "import numpy as np\n",
    "import matplotlib.pyplot as plt\n",
    "import seaborn as sns\n",
    "import pandas as pd\n",
    "import scipy\n",
    "import powerlaw\n",
    "import bqplot\n",
    "from bqplot import pyplot as blt\n",
    "import ipywidgets as widgets\n",
    "import warnings\n",
    "plt.style.use('seaborn-darkgrid')\n",
    "warnings.filterwarnings(\"ignore\")"
   ]
  },
  {
   "cell_type": "markdown",
   "metadata": {},
   "source": [
    "Below see a discrete analysis for the different sectors and their returns distribution (legacy values).\n",
    "\n",
    "Select industry verticals for histogram of returns distribution.\n"
   ]
  },
  {
   "cell_type": "code",
   "execution_count": 2,
   "metadata": {},
   "outputs": [],
   "source": [
    "#Data Research\n",
    "\n",
    "### Alibek's data for discrete analysis\n",
    "\n",
    "disc = pd.read_csv('discreteDist.csv', index_col = 0).T\n",
    "mult = pd.read_csv('multiples.csv', index_col = 0).T\n",
    "\n",
    "sectors = list(mult.columns)\n"
   ]
  },
  {
   "cell_type": "code",
   "execution_count": 3,
   "metadata": {},
   "outputs": [
    {
     "data": {
      "application/vnd.jupyter.widget-view+json": {
       "model_id": "10ab8dcecdf14f50aa511466376c336b",
       "version_major": 2,
       "version_minor": 0
      },
      "text/plain": [
       "interactive(children=(SelectMultiple(description='Verticals', index=(3, 17), options=('Ad/Marketing tech', 'AI…"
      ]
     },
     "metadata": {},
     "output_type": "display_data"
    }
   ],
   "source": [
    "def plot_func(secs):\n",
    "    df = disc[list(secs)]\n",
    "    df.plot(kind = 'bar')\n",
    "    plt.xlabel(\"Return Multiples\")\n",
    "    plt.ylabel(\"Percentage of Companies\")\n",
    "    plt.show()\n",
    "    \n",
    "\n",
    "widg1 = widgets.interactive(plot_func, secs=widgets.SelectMultiple(\n",
    "    options=sectors,\n",
    "    value=[sectors[3],sectors[-1]],\n",
    "    description='Verticals',\n",
    "    disabled=False\n",
    "    ))\n",
    "\n",
    "display(widg1)"
   ]
  },
  {
   "cell_type": "code",
   "execution_count": 4,
   "metadata": {},
   "outputs": [],
   "source": [
    "#Exact Multiples (Capped at 50x) :"
   ]
  },
  {
   "cell_type": "code",
   "execution_count": 5,
   "metadata": {},
   "outputs": [],
   "source": [
    "def mutiples(secs):\n",
    "    display(mult[list(secs)])\n",
    "    \n",
    "widg2 = widgets.interactive(mutiples, secs=widgets.SelectMultiple(\n",
    "    options=sectors,\n",
    "    value=[sectors[3],sectors[-1]],\n",
    "    description='Verticals',\n",
    "    disabled=False\n",
    "    ))\n",
    "\n",
    "#display(widg2)"
   ]
  },
  {
   "cell_type": "code",
   "execution_count": 6,
   "metadata": {},
   "outputs": [],
   "source": [
    "#grid = widgets.GridspecLayout(1,2, height='400px')\n",
    "#grid[:,0] = widg1\n",
    "#grid[:,1] = widg2\n",
    "#display(grid)"
   ]
  },
  {
   "cell_type": "code",
   "execution_count": 7,
   "metadata": {},
   "outputs": [],
   "source": [
    "#Moments for discrete distribution :"
   ]
  },
  {
   "cell_type": "code",
   "execution_count": 8,
   "metadata": {},
   "outputs": [],
   "source": [
    "mu = np.sum(np.multiply(mult,disc))\n",
    "mom2 = np.sum(np.multiply(mult**2,disc))\n",
    "var = mom2-mu**2\n",
    "stdDev = np.sqrt(var)\n",
    "\n",
    "moments = pd.DataFrame([mu,var,stdDev]).T\n",
    "moments = moments.rename_axis('Sectors')\n",
    "moments = moments.rename(columns= {0:'Mean',1:'Variance',2:'Standard Error'})\n",
    "\n",
    "#display(moments)"
   ]
  },
  {
   "cell_type": "markdown",
   "metadata": {},
   "source": [
    "Unlike the return multiples in the discrete setting, we could also have a continuous analysis of power law distribution. You can read more about the distribution here - [Pareto Distribution](https://en.wikipedia.org/wiki/Pareto_distribution)\n",
    "\n",
    "We would define the probability distribution of return multiples in the following way :\n",
    "\n",
    "$$ \\begin{equation}\n",
    "    p(x) = \\begin{cases}\n",
    "    \\frac{\\alpha-1}{\\alpha}, & \\text{for $x<1$}\\\\\n",
    "    \\frac{(\\alpha - 1)}{\\alpha} x^{-\\alpha}, & \\text{for $x>=1$}\n",
    "    \\end{cases} \\end{equation} $$\n",
    "    \n",
    "Based on empirical evidence, we have found $\\alpha$ to be between 1.9-2.5. We will calibrate this $\\alpha$ for each vertical based on data we have. For the analysis below and for stability we are choosing TVPI $\\alpha = 2.42$. \n",
    "\n",
    "This number comes from the angellist data and research paper (page 8) - [Source](https://angel.co/pdf/growth.pdf), based on the log likelihood maximization method derived originally from the works of [Clauset et al (2009)](https://arxiv.org/pdf/0706.1062.pdf).\n",
    "\n",
    "One assumption is that the probability of firms between 0 and 1x returns are considered constant but given the alpha this is a conservative approach for this analysis.\n",
    "\n",
    "The return multiple probability distribution function looks like this -"
   ]
  },
  {
   "cell_type": "code",
   "execution_count": 10,
   "metadata": {},
   "outputs": [
    {
     "data": {
      "application/vnd.jupyter.widget-view+json": {
       "model_id": "56aa81d00e0946c2831384e0a5371889",
       "version_major": 2,
       "version_minor": 0
      },
      "text/plain": [
       "VBox(children=(Figure(axes=[Axis(label='Return Multiples', scale=LinearScale()), Axis(label='Probabaility', or…"
      ]
     },
     "metadata": {},
     "output_type": "display_data"
    }
   ],
   "source": [
    "def pdf(x, alpha = 2.42):\n",
    "    if x<=1:\n",
    "        return (alpha-1)/(alpha)\n",
    "    res = (alpha-1)*np.power(x,-alpha)/alpha\n",
    "    return res\n",
    "\n",
    "alpha = 2.42\n",
    "x = np.linspace(0,10,1000)\n",
    "y = [pdf(i,alpha) for i in x]\n",
    "blt.plot(x,y)\n",
    "blt.title('Continuos probability distribution for return multiples')\n",
    "blt.xlabel('Return Multiples')\n",
    "blt.ylabel('Probabaility')\n",
    "blt.show()\n",
    "\n",
    "### Mean is calculated based on normal distribution behaviour\n",
    "directmean = (alpha-1)/(alpha*(alpha-2))+(alpha-1)/(2*alpha)\n",
    "\n",
    "### Downside risk is calculated for firms going below 1x. (So only constant part of the equation)\n",
    "directDR = (alpha-1)/(3*alpha)"
   ]
  },
  {
   "cell_type": "markdown",
   "metadata": {},
   "source": [
    "## Optimization for optimal weights in each bucket\n",
    "\n",
    "The aim of this exercise is to get optimal weights for each of the buckets decribed above. The method used to achieve this is a convex optimization problem similar to the [mean-variance optimization](https://www.investopedia.com/terms/m/meanvariance-analysis.asp).\n",
    "\n",
    "The aim would be to maximize the returns coming from each bucket and at the same time minimizing the downside risk. Given the analysis is being done for private markets and the returns are not normally distributed, the use of downside risk is the perfect factor to not penalise the underliers for high return. The measurement we use for this is the semi-variance (described [here](https://www.investopedia.com/terms/s/semivariance.asp)). This idea is inspired by the use of [Sortino Ratio](https://en.wikipedia.org/wiki/Sortino_ratio) and discussions by [Fama-French](https://famafrench.dimensional.com/questions-answers/qa-semi-variance-a-better-risk-measure.aspx).\n",
    "\n",
    "For each of the buckets described above the mean is calculated the usual way while the downside risk is calculated by the formulas described in the above links. For our Core GPs and for Direct Investments, the risk is considered only below a 1x return, while for the Beta GPs and Senior GPs, risk is considered below the mean returns as suggested by the papers. This is because of our fund structure preference with the GPs in the 15MM - 100MM range and a better deal flow compensating for the risk.\n",
    "\n",
    "This is how the returns and the downside-risk (semi-variance) for each bucket looks like - "
   ]
  },
  {
   "cell_type": "code",
   "execution_count": 13,
   "metadata": {},
   "outputs": [
    {
     "data": {
      "text/html": [
       "<div>\n",
       "<style scoped>\n",
       "    .dataframe tbody tr th:only-of-type {\n",
       "        vertical-align: middle;\n",
       "    }\n",
       "\n",
       "    .dataframe tbody tr th {\n",
       "        vertical-align: top;\n",
       "    }\n",
       "\n",
       "    .dataframe thead th {\n",
       "        text-align: right;\n",
       "    }\n",
       "</style>\n",
       "<table border=\"1\" class=\"dataframe\">\n",
       "  <thead>\n",
       "    <tr style=\"text-align: right;\">\n",
       "      <th></th>\n",
       "      <th>Mean Return</th>\n",
       "      <th>Semi-Variance</th>\n",
       "    </tr>\n",
       "  </thead>\n",
       "  <tbody>\n",
       "    <tr>\n",
       "      <th>Beta GPs</th>\n",
       "      <td>1.445960</td>\n",
       "      <td>0.239871</td>\n",
       "    </tr>\n",
       "    <tr>\n",
       "      <th>Core GPs</th>\n",
       "      <td>1.657934</td>\n",
       "      <td>0.127825</td>\n",
       "    </tr>\n",
       "    <tr>\n",
       "      <th>Senior GPs</th>\n",
       "      <td>1.490009</td>\n",
       "      <td>0.241929</td>\n",
       "    </tr>\n",
       "    <tr>\n",
       "      <th>Direct Investments</th>\n",
       "      <td>1.690476</td>\n",
       "      <td>0.195592</td>\n",
       "    </tr>\n",
       "  </tbody>\n",
       "</table>\n",
       "</div>"
      ],
      "text/plain": [
       "                    Mean Return  Semi-Variance\n",
       "Beta GPs               1.445960       0.239871\n",
       "Core GPs               1.657934       0.127825\n",
       "Senior GPs             1.490009       0.241929\n",
       "Direct Investments     1.690476       0.195592"
      ]
     },
     "metadata": {},
     "output_type": "display_data"
    }
   ],
   "source": [
    "riskRet = pd.DataFrame([(betaGPmean,betaGPDR),(coreGPmean,coreGPDR),(senGPmean,senGPDR),(directmean,directDR)],\\\n",
    "                       columns = ['Mean Return','Semi-Variance'], index = ['Beta GPs','Core GPs','Senior GPs','Direct Investments'])\n",
    "display(riskRet)"
   ]
  },
  {
   "cell_type": "markdown",
   "metadata": {},
   "source": [
    "Now we will use convex optimization to maximise for returns while minimizing the down-side risk. The problem is defined as -\n",
    "\n",
    "$$ \\begin{equation*}\n",
    "\\begin{aligned}\n",
    "& \\underset{w}{\\text{minimize}}\n",
    "& & -\\frac{w\\cdot r}{w\\cdot \\sigma \\cdot w^T} \\\\\n",
    "& \\text{subject to}\n",
    "& & \\sum w = 1, \\; 0 \\leq w \\leq 1.\n",
    "\\end{aligned}\n",
    "\\end{equation*}  $$\n",
    "\n",
    "where, $w$ and $r$ are vectors and $\\sigma$ is a matrix with the downside risk on the diagonal and 0 on the rest places.\n",
    "\n",
    "After running the analysis we get the following results -"
   ]
  },
  {
   "cell_type": "code",
   "execution_count": 14,
   "metadata": {},
   "outputs": [
    {
     "data": {
      "text/html": [
       "<div>\n",
       "<style scoped>\n",
       "    .dataframe tbody tr th:only-of-type {\n",
       "        vertical-align: middle;\n",
       "    }\n",
       "\n",
       "    .dataframe tbody tr th {\n",
       "        vertical-align: top;\n",
       "    }\n",
       "\n",
       "    .dataframe thead th {\n",
       "        text-align: right;\n",
       "    }\n",
       "</style>\n",
       "<table border=\"1\" class=\"dataframe\">\n",
       "  <thead>\n",
       "    <tr style=\"text-align: right;\">\n",
       "      <th></th>\n",
       "      <th>Weights in Percentage</th>\n",
       "    </tr>\n",
       "  </thead>\n",
       "  <tbody>\n",
       "    <tr>\n",
       "      <th>Beta GPs</th>\n",
       "      <td>17.833307</td>\n",
       "    </tr>\n",
       "    <tr>\n",
       "      <th>Core GPs</th>\n",
       "      <td>38.373775</td>\n",
       "    </tr>\n",
       "    <tr>\n",
       "      <th>Senior GPs</th>\n",
       "      <td>18.220576</td>\n",
       "    </tr>\n",
       "    <tr>\n",
       "      <th>Direct Investments</th>\n",
       "      <td>25.572341</td>\n",
       "    </tr>\n",
       "  </tbody>\n",
       "</table>\n",
       "</div>"
      ],
      "text/plain": [
       "                    Weights in Percentage\n",
       "Beta GPs                        17.833307\n",
       "Core GPs                        38.373775\n",
       "Senior GPs                      18.220576\n",
       "Direct Investments              25.572341"
      ]
     },
     "metadata": {},
     "output_type": "display_data"
    }
   ],
   "source": [
    "def fitness(W):\n",
    "    mu = np.sum(np.array(riskRet['Mean Return'])*np.array(W))\n",
    "    var = np.sum(np.square(np.array(W))*np.array(riskRet['Semi-Variance']))\n",
    "    util = mu / np.sqrt(var)      \n",
    "    return -util\n",
    "\n",
    "n = 4\n",
    "W = np.ones([n])/n                  # start with equal weights\n",
    "b_ = [(0.,1.) for i in range(n)]    # weights between 0%..100%. \n",
    "c_ = ({'type':'eq', 'fun': lambda W: sum(W)-1. })   # Sum of weights = 100%\n",
    "\n",
    "optimized = scipy.optimize.minimize(fitness, W, constraints=c_, bounds=b_)\n",
    "\n",
    "if not optimized.success: \n",
    "    raise BaseException(optimized.message)\n",
    "    \n",
    "weights = optimized.x  # Return optimized weights\n",
    "\n",
    "weightsDF = pd.DataFrame(weights*100,columns = ['Weights in Percentage'],index = ['Beta GPs','Core GPs','Senior GPs','Direct Investments'])\n",
    "\n",
    "display(weightsDF)"
   ]
  },
  {
   "cell_type": "code",
   "execution_count": null,
   "metadata": {},
   "outputs": [],
   "source": []
  }
 ],
 "metadata": {
  "kernelspec": {
   "display_name": "Python 3",
   "language": "python",
   "name": "python3"
  },
  "language_info": {
   "codemirror_mode": {
    "name": "ipython",
    "version": 3
   },
   "file_extension": ".py",
   "mimetype": "text/x-python",
   "name": "python",
   "nbconvert_exporter": "python",
   "pygments_lexer": "ipython3",
   "version": "3.7.6"
  }
 },
 "nbformat": 4,
 "nbformat_minor": 4
}
